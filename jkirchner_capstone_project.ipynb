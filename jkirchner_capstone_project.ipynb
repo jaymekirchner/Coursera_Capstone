{
  "nbformat": 4,
  "nbformat_minor": 0,
  "metadata": {
    "colab": {
      "name": "jkirchner_capstone_project.ipynb",
      "provenance": [],
      "collapsed_sections": []
    },
    "kernelspec": {
      "name": "python3",
      "display_name": "Python 3"
    },
    "language_info": {
      "name": "python"
    }
  },
  "cells": [
    {
      "cell_type": "markdown",
      "metadata": {
        "id": "bWn7D0XXdC96"
      },
      "source": [
        "# Capstone Project Notebook\n",
        "This notebook will mainly be used for the final capstone project.\n"
      ]
    },
    {
      "cell_type": "code",
      "metadata": {
        "id": "9wBs5A7Zc_ga"
      },
      "source": [
        "import pandas as pd\n",
        "import numpy as np"
      ],
      "execution_count": 1,
      "outputs": []
    },
    {
      "cell_type": "code",
      "metadata": {
        "colab": {
          "base_uri": "https://localhost:8080/"
        },
        "id": "5T1XQfeGdCY8",
        "outputId": "6b86af3d-013e-429a-b7e5-9755dbd78523"
      },
      "source": [
        "print(\"Hello Capstone Project Course!\")"
      ],
      "execution_count": 2,
      "outputs": [
        {
          "output_type": "stream",
          "text": [
            "Hello Capstone Project Course!\n"
          ],
          "name": "stdout"
        }
      ]
    }
  ]
}