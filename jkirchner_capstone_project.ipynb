{
  "nbformat": 4,
  "nbformat_minor": 0,
  "metadata": {
    "colab": {
      "name": "jkirchner_capstone_project.ipynb",
      "provenance": [],
      "collapsed_sections": [
        "bWn7D0XXdC96"
      ]
    },
    "kernelspec": {
      "name": "python3",
      "display_name": "Python 3"
    },
    "language_info": {
      "name": "python"
    }
  },
  "cells": [
    {
      "cell_type": "markdown",
      "metadata": {
        "id": "bWn7D0XXdC96"
      },
      "source": [
        "# Capstone Project Notebook\n",
        "This notebook will mainly be used for the final capstone project.\n"
      ]
    },
    {
      "cell_type": "code",
      "metadata": {
        "id": "9wBs5A7Zc_ga"
      },
      "source": [
        "import pandas as pd\n",
        "import numpy as np"
      ],
      "execution_count": 1,
      "outputs": []
    },
    {
      "cell_type": "code",
      "metadata": {
        "colab": {
          "base_uri": "https://localhost:8080/"
        },
        "id": "5T1XQfeGdCY8",
        "outputId": "6b86af3d-013e-429a-b7e5-9755dbd78523"
      },
      "source": [
        "print(\"Hello Capstone Project Course!\")"
      ],
      "execution_count": 2,
      "outputs": [
        {
          "output_type": "stream",
          "text": [
            "Hello Capstone Project Course!\n"
          ],
          "name": "stdout"
        }
      ]
    },
    {
      "cell_type": "markdown",
      "metadata": {
        "id": "0mCXpurkZIea"
      },
      "source": [
        "# Segmenting Neighborhoods in Toronto"
      ]
    },
    {
      "cell_type": "markdown",
      "metadata": {
        "id": "OzblIjZaZOMc"
      },
      "source": [
        "In this assignment, you will be required to explore, segment, and cluster the neighborhoods in the city of Toronto based on the postalcode and borough information.. However, unlike New York, the neighborhood data is not readily available on the internet. What is interesting about the field of data science is that each project can be challenging in its unique way, so you need to learn to be agile and refine the skill to learn new libraries and tools quickly depending on the project.\n",
        "\n",
        "For the Toronto neighborhood data, a Wikipedia page exists that has all the information we need to explore and cluster the neighborhoods in Toronto. You will be required to scrape the Wikipedia page and wrangle the data, clean it, and then read it into a pandas  dataframe so that it is in a structured format like the New York dataset.\n",
        "\n",
        "Once the data is in a structured format, you can replicate the analysis that we did to the New York City dataset to explore and cluster the neighborhoods in the city of Toronto.\n",
        "\n",
        "Your submission will be a link to your Jupyter Notebook on your Github repository.\n",
        "\n",
        "\n",
        "```\n",
        "{'type': 'FeatureCollection',\n",
        " 'totalFeatures': 306,\n",
        " 'features': [{'type': 'Feature',\n",
        "   'id': 'nyu_2451_34572.1',\n",
        "   'geometry': {'type': 'Point',\n",
        "    'coordinates': [-73.84720052054902, 40.89470517661]},\n",
        "   'geometry_name': 'geom',\n",
        "   'properties': {'name': 'Wakefield',\n",
        "    'stacked': 1,\n",
        "    'annoline1': 'Wakefield',\n",
        "    'annoline2': None,\n",
        "    'annoline3': None,\n",
        "    'annoangle': 0.0,\n",
        "    'borough': 'Bronx',\n",
        "    'bbox': [-73.84720052054902,\n",
        "     40.89470517661,\n",
        "     -73.84720052054902,\n",
        "     40.89470517661]}},\n",
        "     ...\n",
        "     'crs': {'type': 'name', 'properties': {'name': 'urn:ogc:def:crs:EPSG::4326'}},\n",
        " 'bbox': [-74.2492599487305,\n",
        "  40.5033187866211,\n",
        "  -73.7061614990234,\n",
        "  40.9105606079102]}\n",
        "  }\n",
        "}\n",
        "```\n"
      ]
    },
    {
      "cell_type": "markdown",
      "metadata": {
        "id": "NnLbeV96QzA6"
      },
      "source": [
        "## Part 1 - Creating the Notebook & Scraping Web Data"
      ]
    },
    {
      "cell_type": "markdown",
      "metadata": {
        "id": "RaEU34ZwPvFe"
      },
      "source": [
        "### Start by creating a new Notebook for this assignment"
      ]
    },
    {
      "cell_type": "code",
      "metadata": {
        "id": "a-tIM9GzC1bR"
      },
      "source": [
        "import requests\n",
        "from bs4 import BeautifulSoup\n",
        "import pandas as pd\n",
        "import numpy as np"
      ],
      "execution_count": 20,
      "outputs": []
    },
    {
      "cell_type": "code",
      "metadata": {
        "id": "JHhGDwv7CwO0"
      },
      "source": [
        "url='https://en.wikipedia.org/wiki/List_of_postal_codes_of_Canada:_M'\n",
        "page=requests.get(url).text\n",
        "soup = BeautifulSoup(page, 'html.parser')"
      ],
      "execution_count": 15,
      "outputs": []
    },
    {
      "cell_type": "markdown",
      "metadata": {
        "id": "l8BUqidgP1sC"
      },
      "source": [
        "### To create the above dataframe:\n",
        "\n",
        "* The dataframe will consist of three columns: PostalCode, Borough, and Neighborhood\n",
        "* Only process the cells that have an assigned borough. Ignore cells with a borough that is Not assigned.\n",
        "* More than one neighborhood can exist in one postal code area. For example, in the table on the Wikipedia page, you will notice that M5A is listed twice and has two neighborhoods: Harbourfront and Regent Park. These two rows will be combined into one row with the neighborhoods separated with a comma as shown in row 11  in the above table.\n",
        "* If a cell has a borough but a Not assigned  neighborhood, then the neighborhood will be the same as the borough.\n",
        "* Clean your Notebook and add Markdown cells to explain your work and any assumptions you are making.\n",
        "* In the last cell of your notebook, use the .shape method to print the number of rows of your dataframe."
      ]
    },
    {
      "cell_type": "code",
      "metadata": {
        "colab": {
          "base_uri": "https://localhost:8080/",
          "height": 204
        },
        "id": "a0ziqXrvC7pb",
        "outputId": "e4f938df-93c7-427c-9945-c9535baf0231"
      },
      "source": [
        "table_contents=[]\n",
        "table=soup.find('table')\n",
        "for row in table.findAll('td'):\n",
        "    cell = {}\n",
        "    if row.span.text=='Not assigned':\n",
        "        pass\n",
        "    else:\n",
        "        cell['PostalCode'] = row.p.text[:3]\n",
        "        cell['Borough'] = (row.span.text).split('(')[0]\n",
        "        cell['Neighborhood'] = (((((row.span.text).split('(')[1]).strip(')')).replace(' /',',')).replace(')',' ')).strip(' ')\n",
        "        table_contents.append(cell)\n",
        "\n",
        "# print(table_contents)\n",
        "df=pd.DataFrame(table_contents)\n",
        "df['Borough']=df['Borough'].replace({'Downtown TorontoStn A PO Boxes25 The Esplanade':'Downtown Toronto Stn A',\n",
        "                                             'East TorontoBusiness reply mail Processing Centre969 Eastern':'East Toronto Business',\n",
        "                                             'EtobicokeNorthwest':'Etobicoke Northwest','East YorkEast Toronto':'East York/East Toronto',\n",
        "                                             'MississaugaCanada Post Gateway Processing Centre':'Mississauga'})\n",
        "df.head()"
      ],
      "execution_count": 24,
      "outputs": [
        {
          "output_type": "execute_result",
          "data": {
            "text/html": [
              "<div>\n",
              "<style scoped>\n",
              "    .dataframe tbody tr th:only-of-type {\n",
              "        vertical-align: middle;\n",
              "    }\n",
              "\n",
              "    .dataframe tbody tr th {\n",
              "        vertical-align: top;\n",
              "    }\n",
              "\n",
              "    .dataframe thead th {\n",
              "        text-align: right;\n",
              "    }\n",
              "</style>\n",
              "<table border=\"1\" class=\"dataframe\">\n",
              "  <thead>\n",
              "    <tr style=\"text-align: right;\">\n",
              "      <th></th>\n",
              "      <th>PostalCode</th>\n",
              "      <th>Borough</th>\n",
              "      <th>Neighborhood</th>\n",
              "    </tr>\n",
              "  </thead>\n",
              "  <tbody>\n",
              "    <tr>\n",
              "      <th>0</th>\n",
              "      <td>M3A</td>\n",
              "      <td>North York</td>\n",
              "      <td>Parkwoods</td>\n",
              "    </tr>\n",
              "    <tr>\n",
              "      <th>1</th>\n",
              "      <td>M4A</td>\n",
              "      <td>North York</td>\n",
              "      <td>Victoria Village</td>\n",
              "    </tr>\n",
              "    <tr>\n",
              "      <th>2</th>\n",
              "      <td>M5A</td>\n",
              "      <td>Downtown Toronto</td>\n",
              "      <td>Regent Park, Harbourfront</td>\n",
              "    </tr>\n",
              "    <tr>\n",
              "      <th>3</th>\n",
              "      <td>M6A</td>\n",
              "      <td>North York</td>\n",
              "      <td>Lawrence Manor, Lawrence Heights</td>\n",
              "    </tr>\n",
              "    <tr>\n",
              "      <th>4</th>\n",
              "      <td>M7A</td>\n",
              "      <td>Queen's Park</td>\n",
              "      <td>Ontario Provincial Government</td>\n",
              "    </tr>\n",
              "  </tbody>\n",
              "</table>\n",
              "</div>"
            ],
            "text/plain": [
              "  PostalCode           Borough                      Neighborhood\n",
              "0        M3A        North York                         Parkwoods\n",
              "1        M4A        North York                  Victoria Village\n",
              "2        M5A  Downtown Toronto         Regent Park, Harbourfront\n",
              "3        M6A        North York  Lawrence Manor, Lawrence Heights\n",
              "4        M7A      Queen's Park     Ontario Provincial Government"
            ]
          },
          "metadata": {
            "tags": []
          },
          "execution_count": 24
        }
      ]
    },
    {
      "cell_type": "code",
      "metadata": {
        "colab": {
          "base_uri": "https://localhost:8080/"
        },
        "id": "KjqnriIQFhdV",
        "outputId": "66a9ba09-c3cb-4bd3-9820-874399c3a725"
      },
      "source": [
        "df.shape"
      ],
      "execution_count": 25,
      "outputs": [
        {
          "output_type": "execute_result",
          "data": {
            "text/plain": [
              "(103, 3)"
            ]
          },
          "metadata": {
            "tags": []
          },
          "execution_count": 25
        }
      ]
    },
    {
      "cell_type": "markdown",
      "metadata": {
        "id": "Le_4CNYvP1x8"
      },
      "source": [
        "### Submit a link to your Notebook on your Github repository.(10 marks)"
      ]
    },
    {
      "cell_type": "markdown",
      "metadata": {
        "id": "xV0kcba3Q59y"
      },
      "source": [
        "## Part 2: "
      ]
    }
  ]
}